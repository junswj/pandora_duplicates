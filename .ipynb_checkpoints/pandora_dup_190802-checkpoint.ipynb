{
 "cells": [
  {
   "cell_type": "code",
   "execution_count": 2,
   "metadata": {},
   "outputs": [
    {
     "name": "stdout",
     "output_type": "stream",
     "text": [
      "Pandora_dup_img.png Picture1.png\r\n"
     ]
    }
   ],
   "source": [
    "!ls ./static"
   ]
  },
  {
   "cell_type": "markdown",
   "metadata": {},
   "source": [
    "<img src=./static/Picture1.png>"
   ]
  },
  {
   "cell_type": "code",
   "execution_count": 1,
   "metadata": {},
   "outputs": [],
   "source": [
    "import pandas as pd\n",
    "import requests\n",
    "from bs4 import BeautifulSoup\n",
    "import json\n",
    "from pandas.io.json import json_normalize"
   ]
  },
  {
   "cell_type": "code",
   "execution_count": 22,
   "metadata": {},
   "outputs": [],
   "source": [
    "#url='https://www.pandora.com/playlist/PL:1688849895588711:905692073'"
   ]
  },
  {
   "cell_type": "code",
   "execution_count": 21,
   "metadata": {},
   "outputs": [],
   "source": [
    "url='https://www.pandora.com/playlist/PL:1688849921155861:905692073'"
   ]
  },
  {
   "cell_type": "code",
   "execution_count": 23,
   "metadata": {},
   "outputs": [
    {
     "data": {
      "text/html": [
       "<div>\n",
       "<style scoped>\n",
       "    .dataframe tbody tr th:only-of-type {\n",
       "        vertical-align: middle;\n",
       "    }\n",
       "\n",
       "    .dataframe tbody tr th {\n",
       "        vertical-align: top;\n",
       "    }\n",
       "\n",
       "    .dataframe thead th {\n",
       "        text-align: right;\n",
       "    }\n",
       "</style>\n",
       "<table border=\"1\" class=\"dataframe\">\n",
       "  <thead>\n",
       "    <tr style=\"text-align: right;\">\n",
       "      <th></th>\n",
       "      <th>addedTimestamp</th>\n",
       "      <th>duration</th>\n",
       "      <th>itemId</th>\n",
       "      <th>trackPandoraId</th>\n",
       "    </tr>\n",
       "  </thead>\n",
       "  <tbody>\n",
       "    <tr>\n",
       "      <th>0</th>\n",
       "      <td>1536648835231</td>\n",
       "      <td>237</td>\n",
       "      <td>1</td>\n",
       "      <td>TR:9760563</td>\n",
       "    </tr>\n",
       "    <tr>\n",
       "      <th>1</th>\n",
       "      <td>1536648854597</td>\n",
       "      <td>224</td>\n",
       "      <td>2</td>\n",
       "      <td>TR:3084941</td>\n",
       "    </tr>\n",
       "    <tr>\n",
       "      <th>2</th>\n",
       "      <td>1536648923855</td>\n",
       "      <td>191</td>\n",
       "      <td>3</td>\n",
       "      <td>TR:6614556</td>\n",
       "    </tr>\n",
       "    <tr>\n",
       "      <th>3</th>\n",
       "      <td>1536706375624</td>\n",
       "      <td>235</td>\n",
       "      <td>4</td>\n",
       "      <td>TR:12659899</td>\n",
       "    </tr>\n",
       "    <tr>\n",
       "      <th>4</th>\n",
       "      <td>1536805104846</td>\n",
       "      <td>201</td>\n",
       "      <td>5</td>\n",
       "      <td>TR:10006516</td>\n",
       "    </tr>\n",
       "  </tbody>\n",
       "</table>\n",
       "</div>"
      ],
      "text/plain": [
       "   addedTimestamp  duration  itemId trackPandoraId\n",
       "0   1536648835231       237       1     TR:9760563\n",
       "1   1536648854597       224       2     TR:3084941\n",
       "2   1536648923855       191       3     TR:6614556\n",
       "3   1536706375624       235       4    TR:12659899\n",
       "4   1536805104846       201       5    TR:10006516"
      ]
     },
     "execution_count": 23,
     "metadata": {},
     "output_type": "execute_result"
    }
   ],
   "source": [
    "r=requests.get(url)\n",
    "soup=BeautifulSoup(r.content,\"html\")\n",
    "page_str=str(soup)\n",
    "json_dict=page_str.split('var ')[4].replace(';\\n    ','').replace('storeData = ','')\n",
    "dic=json.loads(json_dict)\n",
    "df_tracks=pd.DataFrame(dic['v7/playlists/getTracks'][0]['tracks'])\n",
    "\n",
    "df_info=pd.DataFrame.from_dict(dic['v4/catalog/annotateObjects'][0], orient='index')\n",
    "df_info=df_info.reset_index()\n",
    "df_info.rename(columns={'index':'trackPandoraId'}, inplace=True)\n",
    "df=df_tracks.merge(df_info, left_on='trackPandoraId', right_on='trackPandoraId').sort_values(by=['itemId'])\n",
    "\n",
    "df_numbers=df[['name','artistName','itemId']].groupby(['name','artistName']).count().sort_values(by='itemId', ascending=False)\n",
    "\n",
    "df['duplicated']=df.duplicated(subset='name')\n",
    "\n",
    "df_loc=df[['name','duplicated']]"
   ]
  },
  {
   "cell_type": "code",
   "execution_count": null,
   "metadata": {},
   "outputs": [],
   "source": []
  }
 ],
 "metadata": {
  "kernelspec": {
   "display_name": "Python 3",
   "language": "python",
   "name": "python3"
  },
  "language_info": {
   "codemirror_mode": {
    "name": "ipython",
    "version": 3
   },
   "file_extension": ".py",
   "mimetype": "text/x-python",
   "name": "python",
   "nbconvert_exporter": "python",
   "pygments_lexer": "ipython3",
   "version": "3.7.3"
  }
 },
 "nbformat": 4,
 "nbformat_minor": 2
}
