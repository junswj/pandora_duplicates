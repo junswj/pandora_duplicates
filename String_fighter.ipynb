{
 "cells": [
  {
   "cell_type": "code",
   "execution_count": 2,
   "metadata": {},
   "outputs": [
    {
     "name": "stdout",
     "output_type": "stream",
     "text": [
      "Enter Pandora Playlist URL:https://www.pandora.com/playlist/PL:1688849921155861:905692073\n"
     ]
    }
   ],
   "source": [
    "\n",
    "\n",
    "#First_Code_190312_junswj\n",
    "\n",
    "from urllib.request import urlopen as uReq\n",
    "import pandas as pd\n",
    "pd.set_option('display.max_rows', 500)\n",
    "\n",
    "\n",
    "# In[2]:\n",
    "\n",
    "\n",
    "my_url= input(\"Enter Pandora Playlist URL:\")"
   ]
  },
  {
   "cell_type": "code",
   "execution_count": 12,
   "metadata": {},
   "outputs": [],
   "source": [
    "# In[3]:\n",
    "\n",
    "\n",
    "uClient = uReq(my_url)\n",
    "page_html = uClient.read()\n",
    "uClient.close()\n",
    "page_str=str(page_html)\n",
    "\n",
    "\n",
    "# In[4]:\n",
    "\n",
    "\n",
    "songinfo_list=[]\n",
    "songinfo_one_each=[]\n",
    "rep_count=1\n",
    "rep_count_max=page_str.count('\",\"shareableUrlPath\":\"/artist/')\n",
    "\n",
    "\n",
    "# In[5]:\n",
    "\n",
    "\n",
    "while rep_count <= rep_count_max: \n",
    "    si_index_1 = page_str.index('\",\"shareableUrlPath\":\"/artist/')\n",
    "    si_index_2 = len('\",\"shareableUrlPath\":\"/artist/')\n",
    "    si_index = si_index_1 + si_index_2\n",
    "    songinfo=page_str[si_index:si_index+150]\n",
    "    songinfo_list.append(songinfo[:songinfo.find('\"')-15])\n",
    "    page_str=page_str[si_index:]\n",
    "    rep_count += 1\n",
    "\n",
    "\n",
    "# In[6]:\n",
    "\n",
    "\n",
    "songinfo_list.sort()\n",
    "songinfo_one_each=[i.replace('-', ' ') for i in songinfo_list]\n",
    "artist=[i.split('/', 3)[0] for i in songinfo_one_each]\n",
    "album=[i.split('/', 3)[1] for i in songinfo_one_each]\n",
    "song=[i.split('/', 3)[2] for i in songinfo_one_each]\n",
    "\n",
    "\n",
    "# In[7]:\n",
    "\n",
    "\n",
    "table = pd.DataFrame({'Artist Name':artist, 'Album Name':album, 'Song': song})\n",
    "\n",
    "\n",
    "# In[8]:"
   ]
  },
  {
   "cell_type": "code",
   "execution_count": 14,
   "metadata": {},
   "outputs": [
    {
     "data": {
      "text/html": [
       "<div>\n",
       "<style scoped>\n",
       "    .dataframe tbody tr th:only-of-type {\n",
       "        vertical-align: middle;\n",
       "    }\n",
       "\n",
       "    .dataframe tbody tr th {\n",
       "        vertical-align: top;\n",
       "    }\n",
       "\n",
       "    .dataframe thead th {\n",
       "        text-align: right;\n",
       "    }\n",
       "</style>\n",
       "<table border=\"1\" class=\"dataframe\">\n",
       "  <thead>\n",
       "    <tr style=\"text-align: right;\">\n",
       "      <th></th>\n",
       "      <th>Artist Name</th>\n",
       "      <th>Album Name</th>\n",
       "      <th>Song</th>\n",
       "    </tr>\n",
       "  </thead>\n",
       "  <tbody>\n",
       "    <tr>\n",
       "      <th>0</th>\n",
       "      <td>billy joel</td>\n",
       "      <td>12 gardens live</td>\n",
       "      <td>shes always a woman live</td>\n",
       "    </tr>\n",
       "    <tr>\n",
       "      <th>1</th>\n",
       "      <td>billy joel</td>\n",
       "      <td>piano man</td>\n",
       "      <td>piano man</td>\n",
       "    </tr>\n",
       "    <tr>\n",
       "      <th>2</th>\n",
       "      <td>ella fitzgerald</td>\n",
       "      <td>pure ella</td>\n",
       "      <td>misty</td>\n",
       "    </tr>\n",
       "    <tr>\n",
       "      <th>3</th>\n",
       "      <td>elton john</td>\n",
       "      <td>caribou</td>\n",
       "      <td>dont let the sun go down on me</td>\n",
       "    </tr>\n",
       "    <tr>\n",
       "      <th>4</th>\n",
       "      <td>elton john</td>\n",
       "      <td>diamonds deluxe</td>\n",
       "      <td>candle in the wind remastered</td>\n",
       "    </tr>\n",
       "    <tr>\n",
       "      <th>5</th>\n",
       "      <td>frank sinatra</td>\n",
       "      <td>a man and his music</td>\n",
       "      <td>fly me to the moon</td>\n",
       "    </tr>\n",
       "    <tr>\n",
       "      <th>6</th>\n",
       "      <td>journey</td>\n",
       "      <td>frontiers</td>\n",
       "      <td>faithfully</td>\n",
       "    </tr>\n",
       "    <tr>\n",
       "      <th>7</th>\n",
       "      <td>journey</td>\n",
       "      <td>infinity</td>\n",
       "      <td>lights</td>\n",
       "    </tr>\n",
       "    <tr>\n",
       "      <th>8</th>\n",
       "      <td>michael jackson</td>\n",
       "      <td>bad</td>\n",
       "      <td>man in the mirror</td>\n",
       "    </tr>\n",
       "    <tr>\n",
       "      <th>9</th>\n",
       "      <td>the beatles</td>\n",
       "      <td>sgt peppers lonely hearts club band deluxe edi...</td>\n",
       "      <td>with a little help from my friends remix</td>\n",
       "    </tr>\n",
       "  </tbody>\n",
       "</table>\n",
       "</div>"
      ],
      "text/plain": [
       "       Artist Name                                         Album Name  \\\n",
       "0       billy joel                                    12 gardens live   \n",
       "1       billy joel                                          piano man   \n",
       "2  ella fitzgerald                                          pure ella   \n",
       "3       elton john                                            caribou   \n",
       "4       elton john                                    diamonds deluxe   \n",
       "5    frank sinatra                                a man and his music   \n",
       "6          journey                                          frontiers   \n",
       "7          journey                                           infinity   \n",
       "8  michael jackson                                                bad   \n",
       "9      the beatles  sgt peppers lonely hearts club band deluxe edi...   \n",
       "\n",
       "                                       Song  \n",
       "0                  shes always a woman live  \n",
       "1                                 piano man  \n",
       "2                                     misty  \n",
       "3            dont let the sun go down on me  \n",
       "4             candle in the wind remastered  \n",
       "5                        fly me to the moon  \n",
       "6                                faithfully  \n",
       "7                                    lights  \n",
       "8                         man in the mirror  \n",
       "9  with a little help from my friends remix  "
      ]
     },
     "execution_count": 14,
     "metadata": {},
     "output_type": "execute_result"
    }
   ],
   "source": [
    "table=table.drop(table[table.Song == ''].index)\n",
    "table=table.drop_duplicates()\n",
    "table=table.reset_index().drop(columns='index')\n",
    "\n",
    "\n",
    "# In[9]:\n",
    "\n",
    "\n",
    "table"
   ]
  },
  {
   "cell_type": "code",
   "execution_count": 15,
   "metadata": {},
   "outputs": [],
   "source": [
    "# In[10]:\n",
    "\n",
    "\n",
    "page_str=str(page_html)\n",
    "track_ID=[]\n",
    "dupli_track_ID=[]\n",
    "list_count=1\n",
    "list_count_max=page_str.count('\",\"addedTimestamp\":')\n",
    "\n",
    "\n",
    "# In[11]:\n",
    "\n",
    "\n",
    "while list_count <= list_count_max: \n",
    "    tr_index = page_str.index('\",\"addedTimestamp\":')\n",
    "    track_ID.append(page_str[tr_index-11:tr_index]) \n",
    "    page_str=page_str[tr_index+1:]\n",
    "    list_count +=1\n",
    "\n",
    "\n",
    "# In[12]:\n",
    "\n",
    "\n",
    "dupli_check= pd.DataFrame({'Track_ID':track_ID}).duplicated()\n",
    "\n",
    "\n",
    "# In[13]:"
   ]
  },
  {
   "cell_type": "code",
   "execution_count": 18,
   "metadata": {},
   "outputs": [
    {
     "data": {
      "text/plain": [
       "['\":\"TR:71794',\n",
       " 'TR:11053912',\n",
       " '\":\"TR:30999',\n",
       " 'TR:13247705',\n",
       " '\"TR:5593489',\n",
       " '\":\"TR:30569',\n",
       " '\"TR:9902220',\n",
       " '\"TR:9902220',\n",
       " '\"TR:9902220',\n",
       " '\"TR:5792678',\n",
       " '\"TR:5792678',\n",
       " '\":\"TR:29503',\n",
       " '\"TR:5671030',\n",
       " '\"TR:5671030',\n",
       " '\":\"TR:29503',\n",
       " '\"TR:5671030',\n",
       " '\"TR:5671030',\n",
       " '\"TR:5792678',\n",
       " '\"TR:5671030',\n",
       " '\":\"TR:29503']"
      ]
     },
     "execution_count": 18,
     "metadata": {},
     "output_type": "execute_result"
    }
   ],
   "source": [
    "track_ID"
   ]
  },
  {
   "cell_type": "code",
   "execution_count": 16,
   "metadata": {},
   "outputs": [
    {
     "data": {
      "text/plain": [
       "0     False\n",
       "1     False\n",
       "2     False\n",
       "3     False\n",
       "4     False\n",
       "5     False\n",
       "6     False\n",
       "7      True\n",
       "8      True\n",
       "9     False\n",
       "10     True\n",
       "11    False\n",
       "12    False\n",
       "13     True\n",
       "14     True\n",
       "15     True\n",
       "16     True\n",
       "17     True\n",
       "18     True\n",
       "19     True\n",
       "dtype: bool"
      ]
     },
     "execution_count": 16,
     "metadata": {},
     "output_type": "execute_result"
    }
   ],
   "source": [
    "dupli_check"
   ]
  },
  {
   "cell_type": "code",
   "execution_count": 5,
   "metadata": {},
   "outputs": [],
   "source": [
    "dupli_track=dupli_check.index[dupli_check == True].tolist()\n",
    "\n",
    "\n",
    "# In[14]:\n",
    "\n",
    "\n",
    "for i in range(len(dupli_track)):\n",
    "    dupli_track_ID.append(track_ID[(dupli_track[i])])\n",
    "\n",
    "\n",
    "# In[15]:\n",
    "\n",
    "\n",
    "dupli_songinfo_list=[]\n",
    "dupli_count=1\n",
    "dupli_count_max=len(dupli_track_ID)"
   ]
  },
  {
   "cell_type": "code",
   "execution_count": 11,
   "metadata": {
    "scrolled": true
   },
   "outputs": [
    {
     "ename": "ValueError",
     "evalue": "substring not found",
     "output_type": "error",
     "traceback": [
      "\u001b[0;31m---------------------------------------------------------------------------\u001b[0m",
      "\u001b[0;31mValueError\u001b[0m                                Traceback (most recent call last)",
      "\u001b[0;32m<ipython-input-11-86a71938f2fb>\u001b[0m in \u001b[0;36m<module>\u001b[0;34m\u001b[0m\n\u001b[1;32m      1\u001b[0m \u001b[0;32mwhile\u001b[0m \u001b[0mdupli_count\u001b[0m \u001b[0;34m<=\u001b[0m \u001b[0mdupli_count_max\u001b[0m\u001b[0;34m:\u001b[0m\u001b[0;34m\u001b[0m\u001b[0;34m\u001b[0m\u001b[0m\n\u001b[1;32m      2\u001b[0m     \u001b[0mpage_str\u001b[0m\u001b[0;34m=\u001b[0m\u001b[0mstr\u001b[0m\u001b[0;34m(\u001b[0m\u001b[0mpage_html\u001b[0m\u001b[0;34m)\u001b[0m\u001b[0;34m\u001b[0m\u001b[0;34m\u001b[0m\u001b[0m\n\u001b[0;32m----> 3\u001b[0;31m     \u001b[0mdupli_index_1\u001b[0m \u001b[0;34m=\u001b[0m \u001b[0mpage_str\u001b[0m\u001b[0;34m.\u001b[0m\u001b[0mindex\u001b[0m\u001b[0;34m(\u001b[0m\u001b[0;34m'/'\u001b[0m\u001b[0;34m+\u001b[0m\u001b[0mdupli_track_ID\u001b[0m\u001b[0;34m[\u001b[0m\u001b[0mdupli_count\u001b[0m\u001b[0;34m-\u001b[0m\u001b[0;36m1\u001b[0m\u001b[0;34m]\u001b[0m\u001b[0;34m)\u001b[0m\u001b[0;34m\u001b[0m\u001b[0;34m\u001b[0m\u001b[0m\n\u001b[0m\u001b[1;32m      4\u001b[0m     \u001b[0mpage_str\u001b[0m\u001b[0;34m=\u001b[0m\u001b[0mpage_str\u001b[0m\u001b[0;34m[\u001b[0m\u001b[0;34m:\u001b[0m\u001b[0mdupli_index_1\u001b[0m\u001b[0;34m]\u001b[0m\u001b[0;34m\u001b[0m\u001b[0;34m\u001b[0m\u001b[0m\n\u001b[1;32m      5\u001b[0m     \u001b[0mdupli_index_2\u001b[0m\u001b[0;34m=\u001b[0m\u001b[0mpage_str\u001b[0m\u001b[0;34m.\u001b[0m\u001b[0mrfind\u001b[0m\u001b[0;34m(\u001b[0m\u001b[0;34m'/'\u001b[0m\u001b[0;34m)\u001b[0m\u001b[0;34m\u001b[0m\u001b[0;34m\u001b[0m\u001b[0m\n",
      "\u001b[0;31mValueError\u001b[0m: substring not found"
     ]
    }
   ],
   "source": [
    "while dupli_count <= dupli_count_max: \n",
    "    page_str=str(page_html)\n",
    "    dupli_index_1 = page_str.index('/'+dupli_track_ID[dupli_count-1])\n",
    "    page_str=page_str[:dupli_index_1]\n",
    "    dupli_index_2=page_str.rfind('/')\n",
    "    dupli_songinfo_list.append(page_str[dupli_index_2+1:])\n",
    "    dupli_count += 1\n",
    "\n",
    "\n",
    "# In[17]:"
   ]
  },
  {
   "cell_type": "code",
   "execution_count": 6,
   "metadata": {
    "scrolled": true
   },
   "outputs": [
    {
     "ename": "ValueError",
     "evalue": "substring not found",
     "output_type": "error",
     "traceback": [
      "\u001b[0;31m---------------------------------------------------------------------------\u001b[0m",
      "\u001b[0;31mValueError\u001b[0m                                Traceback (most recent call last)",
      "\u001b[0;32m<ipython-input-6-8724aa9d0c30>\u001b[0m in \u001b[0;36m<module>\u001b[0;34m\u001b[0m\n\u001b[1;32m      1\u001b[0m \u001b[0;32mwhile\u001b[0m \u001b[0mdupli_count\u001b[0m \u001b[0;34m<=\u001b[0m \u001b[0mdupli_count_max\u001b[0m\u001b[0;34m:\u001b[0m\u001b[0;34m\u001b[0m\u001b[0;34m\u001b[0m\u001b[0m\n\u001b[1;32m      2\u001b[0m     \u001b[0mpage_str\u001b[0m\u001b[0;34m=\u001b[0m\u001b[0mstr\u001b[0m\u001b[0;34m(\u001b[0m\u001b[0mpage_html\u001b[0m\u001b[0;34m)\u001b[0m\u001b[0;34m\u001b[0m\u001b[0;34m\u001b[0m\u001b[0m\n\u001b[0;32m----> 3\u001b[0;31m     \u001b[0mdupli_index_1\u001b[0m \u001b[0;34m=\u001b[0m \u001b[0mpage_str\u001b[0m\u001b[0;34m.\u001b[0m\u001b[0mindex\u001b[0m\u001b[0;34m(\u001b[0m\u001b[0;34m'/'\u001b[0m\u001b[0;34m+\u001b[0m\u001b[0mdupli_track_ID\u001b[0m\u001b[0;34m[\u001b[0m\u001b[0mdupli_count\u001b[0m\u001b[0;34m-\u001b[0m\u001b[0;36m1\u001b[0m\u001b[0;34m]\u001b[0m\u001b[0;34m)\u001b[0m\u001b[0;34m\u001b[0m\u001b[0;34m\u001b[0m\u001b[0m\n\u001b[0m\u001b[1;32m      4\u001b[0m     \u001b[0mpage_str\u001b[0m\u001b[0;34m=\u001b[0m\u001b[0mpage_str\u001b[0m\u001b[0;34m[\u001b[0m\u001b[0;34m:\u001b[0m\u001b[0mdupli_index_1\u001b[0m\u001b[0;34m]\u001b[0m\u001b[0;34m\u001b[0m\u001b[0;34m\u001b[0m\u001b[0m\n\u001b[1;32m      5\u001b[0m     \u001b[0mdupli_index_2\u001b[0m\u001b[0;34m=\u001b[0m\u001b[0mpage_str\u001b[0m\u001b[0;34m.\u001b[0m\u001b[0mrfind\u001b[0m\u001b[0;34m(\u001b[0m\u001b[0;34m'/'\u001b[0m\u001b[0;34m)\u001b[0m\u001b[0;34m\u001b[0m\u001b[0;34m\u001b[0m\u001b[0m\n",
      "\u001b[0;31mValueError\u001b[0m: substring not found"
     ]
    }
   ],
   "source": [
    "dupli_songinfo_list=[i.replace('-', ' ') for i in dupli_songinfo_list]\n",
    "\n",
    "\n",
    "# In[18]:\n",
    "\n",
    "\n",
    "table_duplicated=0\n",
    "\n",
    "\n",
    "# In[19]:\n",
    "\n",
    "\n",
    "for i in range(len(dupli_songinfo_list)):\n",
    "    table_duplicated=table_duplicated+(table['Song'].str.find(dupli_songinfo_list[i]))+1\n",
    "\n",
    "\n",
    "# In[20]:\n",
    "\n",
    "\n",
    "table['Duplicated']=table_duplicated\n",
    "\n",
    "\n",
    "# In[21]:\n",
    "\n",
    "\n",
    "dupli_checked_table=table.sort_values(by='Duplicated', ascending=False)\n",
    "dupli_checked_table=dupli_checked_table.reset_index().drop(columns='index')\n",
    "\n",
    "\n",
    "# In[22]:\n",
    "\n",
    "\n",
    "\n",
    "\n",
    "\n",
    "# In[23]:\n",
    "\n",
    "\n",
    "dupli_checked_table.to_csv('Pandora_Playlist_Duplicate_Checked.csv')"
   ]
  },
  {
   "cell_type": "code",
   "execution_count": 10,
   "metadata": {},
   "outputs": [
    {
     "data": {
      "text/plain": [
       "['\"TR:9902220',\n",
       " '\"TR:9902220',\n",
       " '\"TR:5792678',\n",
       " '\"TR:5671030',\n",
       " '\":\"TR:29503',\n",
       " '\"TR:5671030',\n",
       " '\"TR:5671030',\n",
       " '\"TR:5792678',\n",
       " '\"TR:5671030',\n",
       " '\":\"TR:29503']"
      ]
     },
     "execution_count": 10,
     "metadata": {},
     "output_type": "execute_result"
    }
   ],
   "source": [
    "dupli_track_ID"
   ]
  },
  {
   "cell_type": "code",
   "execution_count": 9,
   "metadata": {},
   "outputs": [
    {
     "data": {
      "text/plain": [
       "76"
      ]
     },
     "execution_count": 9,
     "metadata": {},
     "output_type": "execute_result"
    }
   ],
   "source": [
    "page_str.index('/')"
   ]
  },
  {
   "cell_type": "code",
   "execution_count": null,
   "metadata": {},
   "outputs": [],
   "source": [
    "dupli_checked_table"
   ]
  }
 ],
 "metadata": {
  "kernelspec": {
   "display_name": "Python 3",
   "language": "python",
   "name": "python3"
  },
  "language_info": {
   "codemirror_mode": {
    "name": "ipython",
    "version": 3
   },
   "file_extension": ".py",
   "mimetype": "text/x-python",
   "name": "python",
   "nbconvert_exporter": "python",
   "pygments_lexer": "ipython3",
   "version": "3.7.3"
  }
 },
 "nbformat": 4,
 "nbformat_minor": 2
}
